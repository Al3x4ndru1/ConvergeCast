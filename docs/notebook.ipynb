{
 "cells": [
  {
   "cell_type": "markdown",
   "metadata": {},
   "source": [
    "# ConvergeCast"
   ]
  },
  {
   "cell_type": "markdown",
   "metadata": {},
   "source": [
    "## Overview"
   ]
  },
  {
   "cell_type": "markdown",
   "metadata": {},
   "source": [
    "> _\"venv\" filder is your environment so you need to be in the environment be able to perform correctly_\n",
    "\n",
    "> _You have to run the install_linux.sh or install)windows.bat to be sure you are up to date with te dependencies_\n",
    "\n",
    "> _If you wanto to commit your changes and you are on linux just type: \"./commit.sh\" type space and type the name of your commit it can be anything_\n",
    "\n",
    "> _If you want to delete your changes from your pc and you are on linux just type: \"./delete.sh\"\n"
   ]
  },
  {
   "cell_type": "markdown",
   "metadata": {},
   "source": [
    "## The Backend"
   ]
  },
  {
   "cell_type": "markdown",
   "metadata": {},
   "source": [
    "### Python"
   ]
  },
  {
   "cell_type": "markdown",
   "metadata": {},
   "source": [
    "#### Server"
   ]
  },
  {
   "cell_type": "markdown",
   "metadata": {},
   "source": [
    "> The main.py"
   ]
  },
  {
   "cell_type": "code",
   "execution_count": null,
   "metadata": {},
   "outputs": [],
   "source": [
    "# import dependecies\n",
    "from flask import Flask, render_template\n",
    "from scripts.Backend import create_app\n",
    "\n",
    "app = Flask(__name__)\n",
    "\n",
    "app = create_app() # create_app function\n",
    "\n",
    "if __name__ == '__main__':                  # main function\n",
    "    app.run(host='10.33.16.19', port=5000)  # the flask app will run on the specific host and the default port 5000"
   ]
  },
  {
   "cell_type": "markdown",
   "metadata": {},
   "source": [
    "This is the main function for the server. First 2 lines are for importing the dependencies, Flask and the create_app function from the Backend folder.\n"
   ]
  },
  {
   "cell_type": "markdown",
   "metadata": {},
   "source": [
    "> The __init__.py"
   ]
  },
  {
   "cell_type": "code",
   "execution_count": null,
   "metadata": {},
   "outputs": [],
   "source": [
    "# import dependecies\n",
    "from flask import Flask\n",
    "from .sserver import server\n",
    "\n",
    "def create_app():\n",
    "    app = Flask(__name__)\n",
    "    app.register_blueprint(server,url_prefix='/')\n",
    "\n",
    "    return app\n",
    "\n"
   ]
  },
  {
   "cell_type": "markdown",
   "metadata": {},
   "source": []
  },
  {
   "cell_type": "markdown",
   "metadata": {},
   "source": [
    "> The get_video.py"
   ]
  },
  {
   "cell_type": "code",
   "execution_count": null,
   "metadata": {},
   "outputs": [],
   "source": [
    "#importing dependencies\n",
    "from cgitb import enable\n",
    "import cv2 as cv\n",
    "from os import environ\n",
    "import matplotlib.pyplot as plt\n",
    "from pylab import *\n",
    "import base64\n",
    "\n",
    "import js2py\n",
    "from js2py import require\n",
    "\n",
    "\n",
    "from numba import jit, cuda\n",
    "\n",
    "# TODO: https://pypi.org/project/drawnow/ imshow\n",
    "\n",
    "environ[\"QT_DEVICE_PIXEL_RATIO\"] = \"0\"\n",
    "environ[\"QT_AUTO_SCREEN_SCALE_FACTOR\"] = \"1\"\n",
    "environ[\"QT_SCREEN_SCALE_FACTORS\"] = \"1\"\n",
    "environ[\"QT_SCALE_FACTOR\"] = \"1\"\n",
    "\n",
    "def show1(frame,ipaddress):\n",
    "    shoow = js2py.require('')\n",
    "\n",
    "    numplusm= \"\"\"\n",
    " \n",
    "    \n",
    "    const ShowImageJavaScript = require(\"./javascript/video/check_first_checkbox\").ShowImageJavaScript;\n",
    "    \n",
    "    function GetFirstCheckbox(){\n",
    "        \n",
    "        <check_first_checkbox> = require('<check_first_checkbox>');\n",
    "        var.put(u'<variable name>', var.get(u'require')(Js(u'<check_first_checkbox>')));\n",
    "        var.put(u'<variable name>', <check_first_checkbox>);\n",
    "        var check = ShowImageJavaScript(); // call tha JavaScript function from the check_first_checkbox file\n",
    "        return check; // return the check variable\n",
    "    }\n",
    "    \"\"\"\n",
    "\n",
    "\n",
    "    a = js2py.eval_js(numplusm)\n",
    "    a.js2py.EvalJS(enable_require=True)\n",
    "    b=a()\n",
    "    print(b)\n",
    "    # if(a()==2):\n",
    "    #     javascript2 =  \"\"\"\"\n",
    "    #         import \"./js/opencv.js\";\n",
    "    #         function ShowImageJavaScript(ipaddress,frame){\n",
    "    #             cv.imshow(ipaddress,frame)\n",
    "    #         }\n",
    "    #     \"\"\"\n",
    "    #     b= js2py.eval_js(javascript2)\n",
    "    #     b(ipaddress,frame)\n",
    "\n",
    "    #cv.imshow('test',frame)\n",
    "    #self.stop()"
   ]
  },
  {
   "cell_type": "markdown",
   "metadata": {},
   "source": []
  },
  {
   "cell_type": "markdown",
   "metadata": {},
   "source": [
    "> The sserver.py"
   ]
  },
  {
   "cell_type": "code",
   "execution_count": null,
   "metadata": {},
   "outputs": [],
   "source": [
    "#import the dependencies\n",
    "from flask import request, render_template, Blueprint\n",
    "import numpy as np\n",
    "from numba import jit, cuda\n",
    "\n",
    "from PIL import Image\n",
    "import io\n",
    "import cv2 as cv\n",
    "import bson\n",
    "import pickle\n",
    "import os\n",
    "import zlib\n",
    "\n",
    "import threading\n",
    "from threading import active_count\n",
    "import requests\n",
    "from multiprocessing import Process\n",
    "\n",
    "from .static.javascript.python.get_video import show1\n",
    "\n",
    "processes = []\n",
    "T_threads = []\n",
    "\n",
    "# TODO: Implement Nvidia and to implemet the GUI\n",
    "\n",
    "#from flask_bson import accept_bson, bsonify\n",
    "\n",
    "server = Blueprint('index',__name__)\n",
    "\n",
    "#@jit(target='cuda')\n",
    "def hello_world(s,ipaddress):\n",
    "    \n",
    "    #T_threads = []\n",
    "    while True:\n",
    "        try:\n",
    "            \n",
    "            data= s.get(f'http://{ipaddress}:5000/video')\n",
    "            decompressed = pickle.loads(zlib.decompress(data.content))\n",
    "            image = np.frombuffer(decompressed, dtype=np.uint8) # interpretate the \n",
    "            frame = cv.imdecode(image, 1) # decode the image\n",
    "            # tensor_a= torch.from_numpy_array(frame)\n",
    "            # y= torch.tensor()\n",
    "            # cv.gpu.GpuMat()\n",
    "            # c = ShowClass()\n",
    "            # thread = threading.Thread(target=c.show, args=(image,))\n",
    "            # T_threads.append(thread)\n",
    "\n",
    "            # T_threads.append(thread)\n",
    "            # T_threads[len(T_threads)-1].start()\n",
    "            # T_threads[len(T_threads)-1].join()\n",
    "            #show(frame)\n",
    "            #T_threads.append(thread)\n",
    "            show1(frame,ipaddress)\n",
    "            #cv.imshow(ipaddress, frame) # show images frame by frame \n",
    "        except:\n",
    "            continue # sometimes the line 41 will return a error about the headers so the code will not print that frame, will skip to be able to have more fps\n",
    "        if cv.waitKey(20) & 0xFF == ord('d'):   # stop the video is the key 'd' is pressed (you can change as per your choice)\n",
    "            break\n",
    "    cv.destroyAllWindows()\n",
    "\n",
    "#Create connection with the client\n",
    "@server.route('/server/',methods=['POST'])\n",
    "def connect():\n",
    "    if request.method == 'POST':\n",
    "        try:\n",
    "            s = requests.Session()\n",
    "            data=request.data #Get a Bson\n",
    "            a=bson.BSON(data).decode() #Decode the Bson\n",
    "            b=a['ipaddress'] #Get the Ipaddress of the client\n",
    "            process =Process(target=hello_world,args=(s,b))\n",
    "            processes.append(process) # Put the thread at the end of the list\n",
    "            processes[processes.length - 1].start() # Start a process for each client\n",
    "            return(\"OK\") #Return Ok (<Response 200>)\n",
    "\n",
    "        except:\n",
    "            return (\"Can not make a connection\")\n",
    "        \n",
    "    return (\"OK\")\n",
    "\n",
    "@server.route('/')\n",
    "def index():\n",
    "    return render_template('index.html')"
   ]
  },
  {
   "cell_type": "markdown",
   "metadata": {},
   "source": [
    "The default function is the _server.route('/')_ , which will render the HTML page. Is the only Flask function which is call internal.\n",
    "\n",
    "-------------------------------------------"
   ]
  },
  {
   "cell_type": "markdown",
   "metadata": {},
   "source": [
    "The _server.route('/server/')_ function is called by the client to create a connection to the server. This function will receive a 'POST' request from the client, which contains a BSON. The next step is to create a network session, for the process that will be create. The function will get the BSON and decode it, get the IPAddress of he client who want to create a connection and initialize a process which will have that network session and that IPAddress. The process will be append to a list and after will start the process. While the process is running function will return the OK response (<Response 200>) and it will be available for other clients.\n",
    "\n",
    "Problems:\n",
    "At this stage we have a problem in terms of SOLID principels. Moreover, the Single-responsiblity principle.\n",
    "\n",
    "-------------------------------------------"
   ]
  },
  {
   "cell_type": "markdown",
   "metadata": {},
   "source": [
    "The _hello_world_ function is meant to run on the GPU.\n",
    "\n",
    "-------------------------------------------"
   ]
  },
  {
   "cell_type": "markdown",
   "metadata": {},
   "source": [
    "#### Client"
   ]
  },
  {
   "cell_type": "markdown",
   "metadata": {},
   "source": []
  },
  {
   "cell_type": "markdown",
   "metadata": {},
   "source": [
    "> client1.py"
   ]
  },
  {
   "cell_type": "code",
   "execution_count": null,
   "metadata": {},
   "outputs": [],
   "source": [
    "#import the dependencies\n",
    "import cv2 as cv\n",
    "import bson\n",
    "import requests\n",
    "from flask import Flask, request, Response\n",
    "import pickle\n",
    "import zlib\n",
    "\n",
    "app = Flask(__name__)\n",
    "\n",
    "capture= cv.VideoCapture(0) # Set the opencv to get input from the camera\n",
    "\n",
    "#The Client Flask method that return the frame\n",
    "@app.route('/video/', methods=['GET'])\n",
    "def video():\n",
    "    \n",
    "    if request.method == 'GET':\n",
    "        while True:\n",
    "            \n",
    "            isTrue, frame = capture.read() # capture frames form the camera\n",
    "            encode_param = [int(cv.IMWRITE_JPEG_QUALITY),85] #set the quality of the frame \n",
    "            encoded, buf =  cv.imencode('.jpg', frame, encode_param) # encode the frame using opencv with the quality selected \"85\"\n",
    "            zlibcompression = zlib.compress(pickle.dumps(buf)) #Compress the encoded JPEG, first convert the object into a byte steam \n",
    "            return Response(zlibcompression,status=200,headers={'Content-Enconded':'b' ''}) #Response with the zlibcompression, status \"ok/200\",\n",
    " \n",
    "\n",
    "\n",
    "if __name__ == '__main__':\n",
    "    ip_address='10.33.16.17'\n",
    "    ports=5000\n",
    "    #Get the ip address of the client\n",
    "    a=bson.BSON.encode({'ipaddress': ip_address, 'ports':ports}) #Create a bson object\n",
    "    r=requests.post('http://10.33.16.19:5000/server',data=a) #Send the bson to create a connection with the server\n",
    "    app.debug=True\n",
    "    app.run(host=ip_address,port=ports) #Run the flask server for the client"
   ]
  },
  {
   "cell_type": "code",
   "execution_count": null,
   "metadata": {},
   "outputs": [],
   "source": []
  },
  {
   "cell_type": "markdown",
   "metadata": {},
   "source": [
    "The first thing that will be executed on the client side is to create the Flask app and set the where the capture is getting from,\"from the main camera, 0\" and the later the if condition. Will get the 'ip_address' from the 'net.sh' bash script, the port is the default port \"5000\". The 'ip_address' and the 'port' are going to be encode it into a BSON and post it to the server. The Flask server will be created and will wait for the server to have a GET request.\n",
    "\n",
    "-------------------------------------------"
   ]
  },
  {
   "cell_type": "markdown",
   "metadata": {},
   "source": [
    "#### AI"
   ]
  },
  {
   "cell_type": "markdown",
   "metadata": {},
   "source": [
    "> facial_lanmasrks"
   ]
  },
  {
   "cell_type": "code",
   "execution_count": null,
   "metadata": {},
   "outputs": [],
   "source": []
  },
  {
   "cell_type": "markdown",
   "metadata": {},
   "source": []
  },
  {
   "cell_type": "markdown",
   "metadata": {},
   "source": [
    "> face_detection"
   ]
  },
  {
   "cell_type": "code",
   "execution_count": null,
   "metadata": {},
   "outputs": [],
   "source": []
  },
  {
   "cell_type": "markdown",
   "metadata": {},
   "source": []
  },
  {
   "cell_type": "markdown",
   "metadata": {},
   "source": [
    "##### Object detection"
   ]
  },
  {
   "cell_type": "markdown",
   "metadata": {},
   "source": [
    "> object_detection"
   ]
  },
  {
   "cell_type": "code",
   "execution_count": null,
   "metadata": {},
   "outputs": [],
   "source": []
  },
  {
   "cell_type": "markdown",
   "metadata": {},
   "source": []
  },
  {
   "cell_type": "markdown",
   "metadata": {},
   "source": [
    "### JavaScript"
   ]
  },
  {
   "cell_type": "markdown",
   "metadata": {},
   "source": [
    "#### Aside"
   ]
  },
  {
   "cell_type": "markdown",
   "metadata": {},
   "source": [
    "> active_Buttons"
   ]
  },
  {
   "cell_type": "code",
   "execution_count": null,
   "metadata": {
    "vscode": {
     "languageId": "javascript"
    }
   },
   "outputs": [],
   "source": [
    "number_of_cameras_selected = 0; // number of cameras that are selected at that time\n",
    "\n",
    "// function that check if the user selected a camera or not\n",
    "function CheckCommand() {\n",
    "    if (number_of_cameras_selected==0){\n",
    "        alert(\"Please select a camera\");\n",
    "    }else{\n",
    "        console.log(\"Is checked\");\n",
    "    }\n",
    "\n",
    "    \n",
    "}\n",
    "\n",
    "\n",
    "// function that check increase or decrease the number of cameras that are selected at that time\n",
    "function selectCameras(cb){\n",
    "    if(document.getElementById(cb).checked){ // check if that checkbox is selected or not, by the \"cb\" reference\n",
    "        number_of_cameras_selected++; // increase the number of cameras that are selected at that time\n",
    "    }\n",
    "    else{\n",
    "        number_of_cameras_selected--; // decrease the number of cameras that are selected at that time\n",
    "    }\n",
    "\n",
    "}"
   ]
  },
  {
   "cell_type": "markdown",
   "metadata": {},
   "source": [
    "We have a global variable 'number_of_cameras_selected' that will be increase or decrease when a camera will be selected. Moreover, the file contains 2 functions, one is for checking the user input and one is for modifying the value of the global variable. The first function _CheckCommand_ is checking if the user selected an AI option withoud selecting any cameras (This is more for the user to uderstand faster how to use the webapp). If the user did not select any camera will show an error, which will tell to the user to select a camera.\n",
    "\n",
    "-------------------------------------------\n",
    "\n",
    "The _selectCameras_ will increase or decrease the variable 'number_of_cameras_selected' based on the reference that is passed 'cb'.\n",
    "\n",
    "-------------------------------------------"
   ]
  },
  {
   "cell_type": "markdown",
   "metadata": {},
   "source": [
    "> aside"
   ]
  },
  {
   "cell_type": "code",
   "execution_count": null,
   "metadata": {
    "vscode": {
     "languageId": "javascript"
    }
   },
   "outputs": [],
   "source": []
  },
  {
   "cell_type": "markdown",
   "metadata": {},
   "source": []
  },
  {
   "cell_type": "markdown",
   "metadata": {},
   "source": [
    "#### main"
   ]
  },
  {
   "cell_type": "markdown",
   "metadata": {},
   "source": [
    "> create_video"
   ]
  },
  {
   "cell_type": "code",
   "execution_count": null,
   "metadata": {
    "vscode": {
     "languageId": "javascript"
    }
   },
   "outputs": [],
   "source": [
    "// TODO: Sa fac sa fie pe coloane si pe linii\n",
    "\n",
    "number_of_cameras= 0;\n",
    "\n",
    "export function myFunction(ipAddress) {\n",
    "  if(number_of_cameras%2!==0){\n",
    "      var div = document.createElement('div'); // Create div for CameraArticle element\n",
    "\n",
    "      var div_title = document.createElement('div'); // Create div for Camera Title which will contain all the elements\n",
    "      div_title.className= \"CameraTitle\"; // set div clann name as \"CameraTitle\"\n",
    "      div_title.setAttribute = number_of_cameras; // make the title of the camera the ipAddress of that camera\n",
    "\n",
    "      var input = document.createElement('input'); // Create input element\n",
    "      input.type = 'checkbox'; // Make the input element as a checkbox\n",
    "      div_title.appendChild(input); // Append the input the the CameraTitle div\n",
    "\n",
    "      var video = document.createElement('video'); // Create video\n",
    "      video.src = 'http://'; // Add the src of the video variable\n",
    "      video.autoplay = 'true'; // Make the video autoplay\n",
    "      video.id= 'videoplayer/' + ipAddress; // Make the id of the video as: \"videoplayer/\" and the actual ipAddress\n",
    "      div_title.appendChild(video); //  Append the video to the CameraTitle\n",
    "\n",
    "      div.appendChild(div_title); //  Append the div_title to the main div(\"CameraArticle\")\n",
    "\n",
    "      number_of_cameras++; // Increment number_of_cameras variable\n",
    "      \n",
    "      \n",
    "\n",
    "      document.body.appendChild(div); // Append the main div into the HTML document\n",
    "\n",
    "    }\n",
    "    else{\n",
    "\n",
    "\n",
    "\n",
    "      number_of_cameras++; // Increment number_of_cameras variable\n",
    "      document.body.appendChild(div); // Append the main div into the HTML document\n",
    "    }\n",
    "  }"
   ]
  },
  {
   "cell_type": "markdown",
   "metadata": {},
   "source": []
  },
  {
   "cell_type": "markdown",
   "metadata": {},
   "source": [
    "#### video"
   ]
  },
  {
   "cell_type": "markdown",
   "metadata": {},
   "source": [
    "> video"
   ]
  },
  {
   "cell_type": "markdown",
   "metadata": {},
   "source": [
    "#### Checks"
   ]
  },
  {
   "cell_type": "markdown",
   "metadata": {},
   "source": [
    "> check_first_checkbox"
   ]
  },
  {
   "cell_type": "code",
   "execution_count": null,
   "metadata": {
    "vscode": {
     "languageId": "javascript"
    }
   },
   "outputs": [],
   "source": [
    "function ShowImageJavaScript(){\n",
    "    if(document.getElementById(\"IpAddress\").checked==true){ // check that checkbox with that ipAddress\n",
    "    return 1; //return 1 if the checkbox is selected\n",
    "        }\n",
    "    else{\n",
    "        return 2; //return 2 if the checkbox is not selected\n",
    "    }\n",
    "}"
   ]
  },
  {
   "cell_type": "markdown",
   "metadata": {},
   "source": [
    "The _ShowImageJavaScript_ function will check if that camera is selected or not. If the camera is selected will return 1, if it is not selected will return 2.\n",
    "\n",
    "-------------------------------------------"
   ]
  },
  {
   "cell_type": "markdown",
   "metadata": {},
   "source": [
    "### Bash"
   ]
  },
  {
   "cell_type": "markdown",
   "metadata": {},
   "source": [
    "> delete"
   ]
  },
  {
   "cell_type": "code",
   "execution_count": null,
   "metadata": {
    "vscode": {
     "languageId": "shellscript"
    }
   },
   "outputs": [],
   "source": [
    "#!/bin/bash\n",
    "\n",
    "git reset --hard\n",
    "git clean -fxd"
   ]
  },
  {
   "cell_type": "markdown",
   "metadata": {},
   "source": []
  },
  {
   "cell_type": "markdown",
   "metadata": {},
   "source": [
    "> commit"
   ]
  },
  {
   "cell_type": "code",
   "execution_count": null,
   "metadata": {
    "vscode": {
     "languageId": "shellscript"
    }
   },
   "outputs": [],
   "source": [
    "#!/bin/bash\n",
    "\n",
    "$msg\n",
    "git add .\n",
    "git status\n",
    "git commit -m '$msg'\n",
    "git push"
   ]
  },
  {
   "cell_type": "markdown",
   "metadata": {},
   "source": [
    "> install_linux"
   ]
  },
  {
   "cell_type": "code",
   "execution_count": null,
   "metadata": {
    "vscode": {
     "languageId": "shellscript"
    }
   },
   "outputs": [],
   "source": [
    "#!/bin/bash\n",
    "echo 'Initializing...'\n",
    "sudo apt -y install python3 python3.10-venv figlet > /dev/null 2>&1\n",
    "\n",
    "figlet 'Welcome to ConvergeCast Installation'\n",
    "read x\n",
    "\n",
    "python3 -m pip install --upgrade pip\n",
    "python3 -m venv venv \n",
    "source venv/bin/activate\n",
    "python -m pip install --upgrade pip\n",
    "python3 -m pip install -r requirements.txt\n",
    "#pip install bson Do not install the \"bson\" package from pypi. PyMongo comes with its own bson package;\n",
    "                # doing \"easy_install bson\" installs a third-party package that is incompatible with PyMongo.\n",
    "pip install Flask-JSON\n",
    "pip install numba\n",
    "python3 -m pip install -U setuptools pip\n",
    "pip install cupy-cuda117\n",
    "python3 -m pip install pymongo"
   ]
  },
  {
   "cell_type": "markdown",
   "metadata": {},
   "source": [
    "> net"
   ]
  },
  {
   "cell_type": "code",
   "execution_count": null,
   "metadata": {
    "vscode": {
     "languageId": "shellscript"
    }
   },
   "outputs": [],
   "source": [
    "#!/bin/bash\n",
    "function get_network(){\n",
    "    interface=wlp3s0\n",
    "    x=`ifconfig $interface | head -2 | tail -1` ; return $x | cut -d ' ' -f2\n",
    "    return \"$x\"\n",
    "}\n",
    "a=$get_network\n",
    "echo \"$a\""
   ]
  },
  {
   "cell_type": "markdown",
   "metadata": {},
   "source": [
    "## Requierements"
   ]
  },
  {
   "cell_type": "markdown",
   "metadata": {},
   "source": [
    "> requirements"
   ]
  },
  {
   "cell_type": "code",
   "execution_count": null,
   "metadata": {
    "vscode": {
     "languageId": "latex"
    }
   },
   "outputs": [],
   "source": [
    "anyio==3.6.1\n",
    "blinker==1.5\n",
    "bottle==0.12.23\n",
    "bottle-websocket==0.2.9\n",
    "certifi==2022.6.15\n",
    "charset-normalizer==2.1.0\n",
    "click==8.1.3\n",
    "colorlog==6.6.0\n",
    "compress-json==1.0.7\n",
    "cupy==10.6.0\n",
    "cycler==0.11.0\n",
    "Cython==0.29.30\n",
    "drawnow==0.72.5\n",
    "Eel==0.14.0\n",
    "fastapi==0.79.0\n",
    "fastrlock==0.8\n",
    "ffmpeg-python==0.2.0\n",
    "Flask==2.1.3\n",
    "Flask-DebugToolbar==0.13.1\n",
    "Flask-WTF==1.0.1\n",
    "flaskwebgui==0.3.5\n",
    "fonttools==4.34.4\n",
    "future==0.18.2\n",
    "gensim==4.2.0\n",
    "gevent==21.12.0\n",
    "gevent-websocket==0.10.1\n",
    "greenlet==1.1.2\n",
    "idna==3.3\n",
    "imutils==0.5.4\n",
    "itsdangerous==2.1.2\n",
    "Jinja2==3.1.2\n",
    "Js2Py==0.71\n",
    "kiwisolver==1.4.4\n",
    "llvmlite==0.38.1\n",
    "MarkupSafe==2.1.1\n",
    "matplotlib==3.5.2\n",
    "numba==0.55.2\n",
    "opencv-contrib-python==4.6.0.66\n",
    "opencv-python==4.6.0.66\n",
    "packaging==21.3\n",
    "pgi==0.0.11.2\n",
    "Pillow==9.2.0\n",
    "pydantic==1.9.1\n",
    "pyjsparser==2.7.1\n",
    "pymongo==4.2.0\n",
    "pyparsing==3.0.9\n",
    "pyshine==0.0.9\n",
    "python-bsonjs==0.3.0\n",
    "python-dateutil==2.8.2\n",
    "pytz-deprecation-shim==0.1.0.post0\n",
    "requests==2.28.1\n",
    "scipy==1.9.0\n",
    "six==1.16.0\n",
    "smart-open==6.0.0\n",
    "sniffio==1.2.0\n",
    "starlette==0.19.1\n",
    "tqdm==4.64.0\n",
    "typing_extensions==4.3.0\n",
    "tzdata==2022.1\n",
    "tzlocal==4.2\n",
    "urllib3==1.26.10\n",
    "vidgear==0.2.6\n",
    "waitress==2.1.2\n",
    "Werkzeug==2.1.2\n",
    "whichcraft==0.6.1\n",
    "WTForms==3.0.1\n",
    "zope.event==4.5.0\n",
    "zope.interface==5.4.0"
   ]
  },
  {
   "cell_type": "markdown",
   "metadata": {},
   "source": [
    "## Frontend"
   ]
  },
  {
   "cell_type": "markdown",
   "metadata": {},
   "source": [
    "### CSS"
   ]
  },
  {
   "cell_type": "markdown",
   "metadata": {},
   "source": [
    "> style"
   ]
  },
  {
   "cell_type": "code",
   "execution_count": null,
   "metadata": {},
   "outputs": [],
   "source": [
    "body{\n",
    "    background-color:black;\n",
    "    color:white;\n",
    "}\n",
    "\n",
    ".alertNoCameras{\n",
    "    background-color:black;\n",
    "    color:coral;\n",
    "    border: solid 2px;\n",
    "    border-radius: 12px;\n",
    "    border-width: fit;\n",
    "    border-color:coral;\n",
    "}\n",
    "\n",
    "aside {\n",
    "    width: 30%;\n",
    "    margin-top:80px;\n",
    "    padding-left: 15px;\n",
    "    margin-left: 15px;\n",
    "    float: right;\n",
    "    position: fixed;\n",
    "    font-style: italic;\n",
    "    background-color: lightgray;\n",
    "    \n",
    "  }\n",
    "\n",
    ".btn-styled {\n",
    "    font-size: 14px;\n",
    "    margin: 8px;\n",
    "    padding: 0 10px;\n",
    "    line-height: 2;\n",
    "}\n",
    "\n",
    "header {\n",
    "    overflow: hidden;\n",
    "    background-color: #333;\n",
    "    position: fixed;\n",
    "    top: 0;\n",
    "    width: 100%;\n",
    "  }\n",
    "\n",
    ".sidenav {\n",
    "  height: 90%;\n",
    "  width: 15%;\n",
    "  position: fixed;\n",
    "  z-index: 1;\n",
    "  top: 17%;\n",
    "  right: 0;\n",
    "  background-color: #111;\n",
    "  overflow-x: hidden;\n",
    "  padding-top: 20px;\n",
    "}\n",
    "\n",
    ".mainSection {\n",
    "  height:79%;\n",
    "  width: 84%;\n",
    "  z-index: 1;\n",
    "  top: 18%;\n",
    "  position: absolute;\n",
    "  left: 1;\n",
    "  background-color: #111;\n",
    "  border-color: aqua;\n",
    "  border-width: fit;\n",
    "  overflow-x: hidden;\n",
    "  border-style: solid;\n",
    "  padding-top: 20px;\n",
    "}\n",
    "\n",
    ".CameraArticle{\n",
    "  height: 20%;\n",
    "  width: 20%;\n",
    "  position: auto;\n",
    "  border-color: red;\n",
    "  border-width: 2px;\n",
    "  border-style: solid;\n",
    "  border:fit;\n",
    "}\n",
    "\n",
    ".CameraTitle{\n",
    "  text-align: center\n",
    "}"
   ]
  },
  {
   "cell_type": "markdown",
   "metadata": {},
   "source": []
  },
  {
   "cell_type": "markdown",
   "metadata": {},
   "source": [
    "### HTML"
   ]
  },
  {
   "cell_type": "markdown",
   "metadata": {},
   "source": [
    "#### templates"
   ]
  },
  {
   "cell_type": "markdown",
   "metadata": {},
   "source": [
    "> index"
   ]
  },
  {
   "cell_type": "code",
   "execution_count": null,
   "metadata": {
    "vscode": {
     "languageId": "html"
    }
   },
   "outputs": [],
   "source": [
    "<!DOCTYPE html>\n",
    "<html>\n",
    "<head>\n",
    "<title>Convrge Cast</title>\n",
    "<link rel=\"stylesheet\" href=\"{{ url_for('static', filename='Css/style.css') }}\"/>\n",
    "\n",
    "<link rel=\"stylesheet\" href=\"https://cdnjs.cloudflare.com/ajax/libs/font-awesome/4.7.0/css/font-awesome.min.css\">\n",
    "<link href=\"https://fonts.googleapis.com/icon?family=Material+Icons\" rel=\"stylesheet\">\n",
    "<meta name=\"viewport\" content=\"width=device-width, initial-scale=1, maximum-scale=1, user-scalable=no\">\n",
    "<link async rel=\"stylesheet\" href=\"{{ url_for('static', filename='javascript/js/opencv.js')}}\">\n",
    "<link rel=\"stylesheet\" href=\"javascript/js/utils.js\">\n",
    "\n",
    "\n",
    "\n",
    "<link rel=\"stylesheet\" \n",
    "href=\"{{ url_for('static', \n",
    "filename='javascript/video/Checks/check_first_checkbox.js')}}\"/> <!--Inport javascript that will check if \n",
    "                                                                the ckeckbox for that ip is selected-->\n",
    "\n",
    "\n",
    "<link rel=\"stylesheet\"\n",
    "href=\"{{ url_for('static', \n",
    "filename='javascript/video/video.js')}}\"/> <!--Inport javascript that will upload the video stream to the HTML-->\n",
    "\n",
    "\n",
    "<link rel=\"stylesheet\" \n",
    "href=\"{{ url_for('static',\n",
    "filename = 'javascript/main/create_video.js')}}\"/> <!--Inport javascript that will automatically create \n",
    "                                                    a new HTML element that will show the video stream-->\n",
    "\n",
    "\n",
    "\n",
    "\n",
    "<script\n",
    "type=\"text/javascript\"\n",
    "src=\"{{ url_for('static', filename='/javascript/aside/activate_Buttons.js')}}\" \n",
    " ></script> <!--Inport javascript that will check the if the ckeckboxs are selected to tell the user to don't activate\n",
    "                any computervision features without selecting a camera-->\n",
    "\n",
    "\n",
    "\n",
    "<!-- <link rel=\"stylesheet\" href=\"https://pyscript.net/alpha/pyscript.css\" /> -->\n",
    "<!-- <script defer src=\"https://pyscript.net/alpha/pyscript.js\"></script> -->\n",
    "\n",
    "\n",
    "<!-- <script\n",
    "type=\"text/javascript\"\n",
    "src=\"{{ url_for('static', filename='/javascript/aside/aside.js')}}\"\n",
    " ></script> -->\n",
    "\n",
    " <py-env>\n",
    "    - OpenCV\n",
    "    - cv2\n",
    "    - os\n",
    "    - matplotlib\n",
    "     - ./get_video.py\n",
    " </py-env>\n",
    "\n",
    "</head>\n",
    "<body>\n",
    "\n",
    "    <header>\n",
    "        <div class=\"Number-of-Cameras\">\n",
    "            <h1>Number of cameras</h1>\n",
    "            <p>0</p>\n",
    "        </div>\n",
    "    </header>\n",
    "\n",
    "\n",
    "<div class=\"sidenav\">\n",
    "\n",
    "     <button onclick=\"myFunction()\">Try</button>\n",
    "    <div id=\"container\"></div>\n",
    "  </div>\n",
    "  \n",
    "\n",
    "<!--TODO: add javascript to allow this part or not-->\n",
    "\n",
    "<div class=\"mainSection\">\n",
    "        <div class=\"CameraArticle\">\n",
    "            \n",
    "            <div class=\"CameraTitle\">Camera 1\n",
    "\n",
    "                <input type=\"checkbox\" id=\"IpAddress\" value=\"true\" onclick=\"selectCameras(this.id)\"  > <!-- onclick=\"selectCameras(this.id)\" -->\n",
    "                <img id=\"input_image\">\n",
    "\n",
    "                <cameras id='canvas_output'></cameras>\n",
    "                <!-- <img src=\"data:image/jpeg;base64, {{img}}\"></img>\n",
    "\n",
    "                <py-script\n",
    "                    output=\"plot\"\n",
    "                    src=\"./Backend/get_video.py\">\n",
    "                </py-script> -->\n",
    "\n",
    "                <!-- <div container class=\"Camera\"><py-script src=\"./Backend/get_video.py\"></py-script></div> -->\n",
    "                \n",
    "                <!-- <video id=\"videoplayer\" autoplay=\"true\" src= \"\"\n",
    "\n",
    "                </video> -->\n",
    "           \n",
    "            </div>\n",
    "            \n",
    "        </div>\n",
    "        \n",
    "    <div class=\"row\">\n",
    "        <div class=\"col-md-3\">\n",
    "        </div>\n",
    "    </div>\n",
    "      \n",
    "        \n",
    "</div>\n",
    "\n",
    "\n",
    "<button class=\"font-size:24px\"><i class=\"material-icons\">fullscreen</i></button>\n",
    "\n",
    "</body>\n",
    "</html>"
   ]
  },
  {
   "cell_type": "markdown",
   "metadata": {},
   "source": []
  }
 ],
 "metadata": {
  "kernelspec": {
   "display_name": "Python 3.10.4 ('venv': venv)",
   "language": "python",
   "name": "python3"
  },
  "language_info": {
   "codemirror_mode": {
    "name": "ipython",
    "version": 3
   },
   "file_extension": ".py",
   "mimetype": "text/x-python",
   "name": "python",
   "nbconvert_exporter": "python",
   "pygments_lexer": "ipython3",
   "version": "3.10.4"
  },
  "orig_nbformat": 4,
  "vscode": {
   "interpreter": {
    "hash": "019979333554940592c116d9b04cffd81d30265f736fe59d6fdb98f58de28c29"
   }
  }
 },
 "nbformat": 4,
 "nbformat_minor": 2
}
